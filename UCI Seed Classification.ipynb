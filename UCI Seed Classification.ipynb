{
 "cells": [
  {
   "cell_type": "markdown",
   "metadata": {},
   "source": [
    "# UCI Seed Classification\n",
    "__UCI Seeds Data Set__\n",
    "https://archive.ics.uci.edu/ml/datasets/seeds\n",
    "\n",
    "__K-Nearest Neighbors Implementation__"
   ]
  },
  {
   "cell_type": "code",
   "execution_count": 54,
   "metadata": {},
   "outputs": [],
   "source": [
    "#### 1. Import neccesary libraries\n",
    "import pandas as pd\n",
    "import matplotlib.pyplot as plt\n",
    "from sklearn import neighbors, preprocessing\n",
    "from sklearn.model_selection import train_test_split\n",
    "from sklearn.preprocessing import StandardScaler\n",
    "from sklearn.metrics import classification_report"
   ]
  },
  {
   "cell_type": "code",
   "execution_count": 55,
   "metadata": {},
   "outputs": [
    {
     "name": "stdout",
     "output_type": "stream",
     "text": [
      "    area  perimeter  compactness  k_length  k_width  asymmetry  g_length  \\\n",
      "0  15.26      14.84       0.8710     5.763    3.312      2.221     5.220   \n",
      "1  14.88      14.57       0.8811     5.554    3.333      1.018     4.956   \n",
      "2  14.29      14.09       0.9050     5.291    3.337      2.699     4.825   \n",
      "3  13.84      13.94       0.8955     5.324    3.379      2.259     4.805   \n",
      "4  16.14      14.99       0.9034     5.658    3.562      1.355     5.175   \n",
      "\n",
      "   class  \n",
      "0    1.0  \n",
      "1    1.0  \n",
      "2    1.0  \n",
      "3    1.0  \n",
      "4    1.0  \n"
     ]
    }
   ],
   "source": [
    "### 2. Prepare data set (Headers added separately)\n",
    "## Features:\n",
    "# 1.) area: area\n",
    "# 2.) perimeter: perimeter P\n",
    "# 3.) compactness: C = 4*pi*A/P^2\n",
    "# 4.) k_length: length of kernel\n",
    "# 5.) k_width: width of kernel\n",
    "# 6.) asymmetry: asymmetry coefficient\n",
    "# 7.) g_length: length of kernel groove\n",
    "## Label: class\n",
    "\n",
    "features = ['area','perimeter', 'compactness', 'k_length', 'k_width', 'asymmetry', 'g_length', 'class']\n",
    "df = pd.DataFrame(columns=features)\n",
    "\n",
    "with open(\"data/seeds_dataset.txt\") as file:\n",
    "    for line in file:\n",
    "        data = [x for x in line.split('\\t') if x]  # Combine elements by tab\n",
    "        data[-1] = data[-1].strip(\"\\n\")  # Remove break space at end of line\n",
    "        data = [float(i) for i in data]  # Convert types to float\n",
    "        row = dict(zip(features, data))  # Convert list to dictionary\n",
    "        df = df.append(row, ignore_index=True)\n",
    "\n",
    "print(df.head())"
   ]
  },
  {
   "cell_type": "code",
   "execution_count": 56,
   "metadata": {},
   "outputs": [],
   "source": [
    "### 3. Create training and testing data set\n",
    "\n",
    "# Split X and Y values\n",
    "X = df[features]\n",
    "y = df['class']\n",
    "\n",
    "X_train, X_test, y_train, y_test = train_test_split(X, y, test_size=0.2)  # Split the data into training/testing data\n",
    "\n",
    "# Normalize X data\n",
    "scaler = StandardScaler()\n",
    "scaler.fit(X_train)\n",
    "X_train = scaler.transform(X_train)\n",
    "X_test = scaler.transform(X_test)"
   ]
  },
  {
   "cell_type": "code",
   "execution_count": 59,
   "metadata": {},
   "outputs": [
    {
     "name": "stdout",
     "output_type": "stream",
     "text": [
      "100.0\n"
     ]
    }
   ],
   "source": [
    "### 4. Create/Train/Predict model\n",
    "\n",
    "model = neighbors.KNeighborsClassifier(n_jobs=5)  # Define classifier\n",
    "model.fit(X_train, y_train)  # Train the model\n",
    "\n",
    "y_pred = model.predict(X_test)\n",
    "accuracy = model.score(X_test, y_pred)\n",
    "\n",
    "print(accuracy * 100)"
   ]
  },
  {
   "cell_type": "code",
   "execution_count": null,
   "metadata": {},
   "outputs": [],
   "source": []
  },
  {
   "cell_type": "code",
   "execution_count": null,
   "metadata": {},
   "outputs": [],
   "source": []
  }
 ],
 "metadata": {
  "kernelspec": {
   "display_name": "Python 3",
   "language": "python",
   "name": "python3"
  },
  "language_info": {
   "codemirror_mode": {
    "name": "ipython",
    "version": 3
   },
   "file_extension": ".py",
   "mimetype": "text/x-python",
   "name": "python",
   "nbconvert_exporter": "python",
   "pygments_lexer": "ipython3",
   "version": "3.7.3"
  }
 },
 "nbformat": 4,
 "nbformat_minor": 2
}
